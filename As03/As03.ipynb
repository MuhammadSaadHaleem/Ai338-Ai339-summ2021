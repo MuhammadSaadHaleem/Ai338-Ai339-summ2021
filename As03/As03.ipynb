{
  "nbformat": 4,
  "nbformat_minor": 0,
  "metadata": {
    "colab": {
      "name": "As03.ipynb",
      "provenance": [],
      "collapsed_sections": []
    },
    "kernelspec": {
      "name": "python3",
      "display_name": "Python 3"
    },
    "language_info": {
      "name": "python"
    }
  },
  "cells": [
    {
      "cell_type": "code",
      "metadata": {
        "colab": {
          "base_uri": "https://localhost:8080/"
        },
        "id": "3nUzyy99lbNM",
        "outputId": "14890749-fa9d-47d9-d5a6-bfbac3a2162e"
      },
      "source": [
        "import pandas as pd\n",
        "from sklearn.naive_bayes import MultinomialNB\n",
        "\n",
        "trainData = pd.read_csv('train.csv')\n",
        "testData = pd.read_csv('test.csv')\n",
        "\n",
        "YTrain = trainData.Survived;\n",
        "trainData.drop('Survived',inplace=True,axis=1)\n",
        "\n",
        "trainData.drop('Name',inplace=True,axis=1)\n",
        "trainData.drop('Cabin',inplace=True,axis=1)\n",
        "trainData.drop('Ticket',inplace=True,axis=1)\n",
        "testData.drop('Name',inplace=True,axis=1)\n",
        "testData.drop('Cabin',inplace=True,axis=1)\n",
        "testData.drop('Ticket',inplace=True,axis=1)\n",
        "#Convert String based columns to integer classes\n",
        "trainData[\"Sex\"] = trainData[\"Sex\"].replace(['female','male'],[0,1])\n",
        "testData[\"Sex\"] = testData[\"Sex\"].replace(['female','male'],[0,1])\n",
        "trainData[\"Embarked\"] = trainData[\"Embarked\"].replace(['S','Q','C'],[0,1,2])\n",
        "testData[\"Embarked\"] = testData[\"Embarked\"].replace(['S','Q','C'],[0,1,2])\n",
        "\n",
        "trainData.fillna(value=0,inplace=True)\n",
        "testData.fillna(value=trainData['Age'].mean(),inplace=True)\n",
        "testData.fillna(value=trainData['Fare'].mean(),inplace=True)\n",
        "\n",
        "print(YTrain.shape)\n",
        "print(trainData)\n",
        "print(testData.shape)\n",
        "\n",
        "mnb = MultinomialNB();\n",
        "mnb.fit(trainData,YTrain)\n",
        "\n",
        "predictions = mnb.predict(testData)\n",
        "print(predictions.shape)\n",
        "\n",
        "submission = pd.DataFrame({\n",
        "        \"PassengerId\": testData[\"PassengerId\"],\n",
        "        \"Survived\": predictions\n",
        "    })\n",
        "submission.to_csv('submission.csv', index=False)"
      ],
      "execution_count": 3,
      "outputs": [
        {
          "output_type": "stream",
          "text": [
            "(891,)\n",
            "     PassengerId  Pclass  Sex   Age  SibSp  Parch     Fare  Embarked\n",
            "0              1       3    1  22.0      1      0   7.2500       0.0\n",
            "1              2       1    0  38.0      1      0  71.2833       2.0\n",
            "2              3       3    0  26.0      0      0   7.9250       0.0\n",
            "3              4       1    0  35.0      1      0  53.1000       0.0\n",
            "4              5       3    1  35.0      0      0   8.0500       0.0\n",
            "..           ...     ...  ...   ...    ...    ...      ...       ...\n",
            "886          887       2    1  27.0      0      0  13.0000       0.0\n",
            "887          888       1    0  19.0      0      0  30.0000       0.0\n",
            "888          889       3    0   0.0      1      2  23.4500       0.0\n",
            "889          890       1    1  26.0      0      0  30.0000       2.0\n",
            "890          891       3    1  32.0      0      0   7.7500       1.0\n",
            "\n",
            "[891 rows x 8 columns]\n",
            "(418, 8)\n",
            "(418,)\n"
          ],
          "name": "stdout"
        }
      ]
    }
  ]
}